{
 "cells": [
  {
   "cell_type": "code",
   "execution_count": 1,
   "id": "e50c42dd",
   "metadata": {},
   "outputs": [
    {
     "name": "stderr",
     "output_type": "stream",
     "text": [
      "d:\\Poli\\MIniconda\\envs\\tf_flow\\lib\\site-packages\\tensorflow\\python\\framework\\dtypes.py:516: FutureWarning: Passing (type, 1) or '1type' as a synonym of type is deprecated; in a future version of numpy, it will be understood as (type, (1,)) / '(1,)type'.\n",
      "  _np_qint8 = np.dtype([(\"qint8\", np.int8, 1)])\n",
      "d:\\Poli\\MIniconda\\envs\\tf_flow\\lib\\site-packages\\tensorflow\\python\\framework\\dtypes.py:517: FutureWarning: Passing (type, 1) or '1type' as a synonym of type is deprecated; in a future version of numpy, it will be understood as (type, (1,)) / '(1,)type'.\n",
      "  _np_quint8 = np.dtype([(\"quint8\", np.uint8, 1)])\n",
      "d:\\Poli\\MIniconda\\envs\\tf_flow\\lib\\site-packages\\tensorflow\\python\\framework\\dtypes.py:518: FutureWarning: Passing (type, 1) or '1type' as a synonym of type is deprecated; in a future version of numpy, it will be understood as (type, (1,)) / '(1,)type'.\n",
      "  _np_qint16 = np.dtype([(\"qint16\", np.int16, 1)])\n",
      "d:\\Poli\\MIniconda\\envs\\tf_flow\\lib\\site-packages\\tensorflow\\python\\framework\\dtypes.py:519: FutureWarning: Passing (type, 1) or '1type' as a synonym of type is deprecated; in a future version of numpy, it will be understood as (type, (1,)) / '(1,)type'.\n",
      "  _np_quint16 = np.dtype([(\"quint16\", np.uint16, 1)])\n",
      "d:\\Poli\\MIniconda\\envs\\tf_flow\\lib\\site-packages\\tensorflow\\python\\framework\\dtypes.py:520: FutureWarning: Passing (type, 1) or '1type' as a synonym of type is deprecated; in a future version of numpy, it will be understood as (type, (1,)) / '(1,)type'.\n",
      "  _np_qint32 = np.dtype([(\"qint32\", np.int32, 1)])\n",
      "d:\\Poli\\MIniconda\\envs\\tf_flow\\lib\\site-packages\\tensorflow\\python\\framework\\dtypes.py:525: FutureWarning: Passing (type, 1) or '1type' as a synonym of type is deprecated; in a future version of numpy, it will be understood as (type, (1,)) / '(1,)type'.\n",
      "  np_resource = np.dtype([(\"resource\", np.ubyte, 1)])\n",
      "d:\\Poli\\MIniconda\\envs\\tf_flow\\lib\\site-packages\\tensorboard\\compat\\tensorflow_stub\\dtypes.py:541: FutureWarning: Passing (type, 1) or '1type' as a synonym of type is deprecated; in a future version of numpy, it will be understood as (type, (1,)) / '(1,)type'.\n",
      "  _np_qint8 = np.dtype([(\"qint8\", np.int8, 1)])\n",
      "d:\\Poli\\MIniconda\\envs\\tf_flow\\lib\\site-packages\\tensorboard\\compat\\tensorflow_stub\\dtypes.py:542: FutureWarning: Passing (type, 1) or '1type' as a synonym of type is deprecated; in a future version of numpy, it will be understood as (type, (1,)) / '(1,)type'.\n",
      "  _np_quint8 = np.dtype([(\"quint8\", np.uint8, 1)])\n",
      "d:\\Poli\\MIniconda\\envs\\tf_flow\\lib\\site-packages\\tensorboard\\compat\\tensorflow_stub\\dtypes.py:543: FutureWarning: Passing (type, 1) or '1type' as a synonym of type is deprecated; in a future version of numpy, it will be understood as (type, (1,)) / '(1,)type'.\n",
      "  _np_qint16 = np.dtype([(\"qint16\", np.int16, 1)])\n",
      "d:\\Poli\\MIniconda\\envs\\tf_flow\\lib\\site-packages\\tensorboard\\compat\\tensorflow_stub\\dtypes.py:544: FutureWarning: Passing (type, 1) or '1type' as a synonym of type is deprecated; in a future version of numpy, it will be understood as (type, (1,)) / '(1,)type'.\n",
      "  _np_quint16 = np.dtype([(\"quint16\", np.uint16, 1)])\n",
      "d:\\Poli\\MIniconda\\envs\\tf_flow\\lib\\site-packages\\tensorboard\\compat\\tensorflow_stub\\dtypes.py:545: FutureWarning: Passing (type, 1) or '1type' as a synonym of type is deprecated; in a future version of numpy, it will be understood as (type, (1,)) / '(1,)type'.\n",
      "  _np_qint32 = np.dtype([(\"qint32\", np.int32, 1)])\n",
      "d:\\Poli\\MIniconda\\envs\\tf_flow\\lib\\site-packages\\tensorboard\\compat\\tensorflow_stub\\dtypes.py:550: FutureWarning: Passing (type, 1) or '1type' as a synonym of type is deprecated; in a future version of numpy, it will be understood as (type, (1,)) / '(1,)type'.\n",
      "  np_resource = np.dtype([(\"resource\", np.ubyte, 1)])\n"
     ]
    }
   ],
   "source": [
    "import warnings\n",
    "import pandas as pd\n",
    "import numpy as np\n",
    "import tensorflow as tf\n",
    "from sklearn.model_selection import train_test_split\n",
    "from sklearn.preprocessing import LabelEncoder, StandardScaler\n",
    "from tensorflow.keras.models import Sequential\n",
    "from tensorflow.keras.layers import Dense, InputLayer, Dropout"
   ]
  },
  {
   "cell_type": "markdown",
   "id": "521af552",
   "metadata": {},
   "source": [
    "O dataset foi gerado a partir da base de dados DREAMER:\n",
    "S. Katsigiannis, N. Ramzan, “DREAMER: A Database for Emotion Recognition Through EEG and ECG\n",
    "Signals from Wireless Low-cost Off-the-Shelf Devices,” IEEE Journal of Biomedical and Health\n",
    "Informatics, 2017. In press. doi: 10.1109/JBHI.2017.2688239"
   ]
  },
  {
   "cell_type": "code",
   "execution_count": null,
   "id": "3a9f736d",
   "metadata": {},
   "outputs": [
    {
     "name": "stdout",
     "output_type": "stream",
     "text": [
      "\n",
      "Número de características de entrada: 30\n",
      "Características de entrada selecionadas: ['age', 'gender', 'eeg_mean_AF3', 'eeg_var_AF3', 'eeg_mean_F7', 'eeg_var_F7', 'eeg_mean_F3', 'eeg_var_F3', 'eeg_mean_FC5', 'eeg_var_FC5', 'eeg_mean_T7', 'eeg_var_T7', 'eeg_mean_P7', 'eeg_var_P7', 'eeg_mean_O1', 'eeg_var_O1', 'eeg_mean_O2', 'eeg_var_O2', 'eeg_mean_P8', 'eeg_var_P8', 'eeg_mean_T8', 'eeg_var_T8', 'eeg_mean_FC6', 'eeg_var_FC6', 'eeg_mean_F4', 'eeg_var_F4', 'eeg_mean_F8', 'eeg_var_F8', 'eeg_mean_AF4', 'eeg_var_AF4']\n",
      "\n",
      "Número de neurônios de saída: 3\n",
      "Alvos de saída: ['valence', 'arousal', 'dominance']\n"
     ]
    }
   ],
   "source": [
    "#Carregando o modelo\n",
    "df = pd.read_csv('dreamer_preprocessed_features.csv')\n",
    "df.head()\n",
    "\n",
    "#A coluna gender deve ser convertida para valores numéricos (embora sua utilização se tornou prejudicial para a acurácia)\n",
    "le = LabelEncoder()\n",
    "df['gender'] = le.fit_transform(df['gender'])\n",
    "df.head()\n",
    "\n",
    "#Gerando input e output\n",
    "colunas_para_remover = [ 'trial', 'participant','valence', 'arousal', 'dominance']\n",
    "X = df.drop(columns=colunas_para_remover).copy()\n",
    "\n",
    "output_features = ['valence', 'arousal', 'dominance']\n",
    "y = df[output_features]\n",
    "\n",
    "print(f\"\\nNúmero de características de entrada: {X.shape[1]}\")\n",
    "print(\"Características de entrada selecionadas:\", X.columns.tolist())\n",
    "print(f\"\\nNúmero de neurônios de saída: {y.shape[1]}\")\n",
    "print(\"Alvos de saída:\", y.columns.tolist())"
   ]
  },
  {
   "cell_type": "code",
   "execution_count": null,
   "id": "66738874",
   "metadata": {},
   "outputs": [],
   "source": [
    "#Splitando o dataset\n",
    "X_train, X_test, y_train, y_test = train_test_split(X, y, test_size=0.2, random_state=42)\n",
    "\n",
    "# Escalonamento dos dados de entrada.\n",
    "scaler = StandardScaler()\n",
    "X_train_scaled = scaler.fit_transform(X_train)\n",
    "X_test_scaled = scaler.transform(X_test) # Importante: usar o mesmo scaler treinado nos dados de treino."
   ]
  },
  {
   "cell_type": "code",
   "execution_count": null,
   "id": "28536d00",
   "metadata": {},
   "outputs": [
    {
     "name": "stdout",
     "output_type": "stream",
     "text": [
      "WARNING:tensorflow:From d:\\Poli\\MIniconda\\envs\\tf_flow\\lib\\site-packages\\tensorflow\\python\\ops\\init_ops.py:1251: calling VarianceScaling.__init__ (from tensorflow.python.ops.init_ops) with dtype is deprecated and will be removed in a future version.\n",
      "Instructions for updating:\n",
      "Call initializer instance with the dtype argument instead of passing it to the constructor\n"
     ]
    }
   ],
   "source": [
    "#Criando o modelo\n",
    "\n",
    "model = Sequential(name=\"Emotion_Prediction_Model\")\n",
    "  \n",
    "model.add(InputLayer(input_shape=(X_train_scaled.shape[1],), name=\"Input_Layer\"))\n",
    "model.add(Dense(64, activation='relu', name=\"Hidden_Layer_1\"))\n",
    "model.add(Dense(32, activation='relu', name=\"Hidden_Layer_2\"))\n",
    "model.add(Dense(3, activation='linear', name=\"Output_Layer\"))"
   ]
  },
  {
   "cell_type": "code",
   "execution_count": 7,
   "id": "964335a4",
   "metadata": {},
   "outputs": [
    {
     "name": "stdout",
     "output_type": "stream",
     "text": [
      "\n",
      "--- Arquitetura da Rede Neural ---\n",
      "Model: \"Emotion_Prediction_Model\"\n",
      "_________________________________________________________________\n",
      "Layer (type)                 Output Shape              Param #   \n",
      "=================================================================\n",
      "Hidden_Layer_1 (Dense)       (None, 64)                1984      \n",
      "_________________________________________________________________\n",
      "Hidden_Layer_2 (Dense)       (None, 32)                2080      \n",
      "_________________________________________________________________\n",
      "Output_Layer (Dense)         (None, 3)                 99        \n",
      "=================================================================\n",
      "Total params: 4,163\n",
      "Trainable params: 4,163\n",
      "Non-trainable params: 0\n",
      "_________________________________________________________________\n",
      "\n",
      "--- Iniciando o Treinamento ---\n",
      "Treinamento concluído.\n"
     ]
    }
   ],
   "source": [
    "model.compile(optimizer='adam',\n",
    "                  loss='mean_squared_error',\n",
    "                  metrics=['mean_absolute_error']) # MAE é mais fácil de interpretar que o MSE.\n",
    "\n",
    "# Mostra um resumo da arquitetura do modelo.\n",
    "print(\"\\n--- Arquitetura da Rede Neural ---\")\n",
    "model.summary()\n",
    "\n",
    "    \n",
    "print(\"\\n--- Iniciando o Treinamento ---\")\n",
    "# O treinamento é executado por 100 épocas.\n",
    "# validation_data é usado para monitorar o desempenho do modelo em dados não vistos a cada época.\n",
    "history = model.fit(\n",
    "    X_train_scaled,\n",
    "    y_train,\n",
    "    epochs=100,\n",
    "    batch_size=8,\n",
    "    validation_data=(X_test_scaled, y_test),\n",
    "    verbose=0  # Use verbose=1 para ver o progresso de cada época\n",
    ")\n",
    "print(\"Treinamento concluído.\")"
   ]
  },
  {
   "cell_type": "code",
   "execution_count": null,
   "id": "f9a9eb80",
   "metadata": {},
   "outputs": [
    {
     "name": "stdout",
     "output_type": "stream",
     "text": [
      "\n",
      "--- Avaliação do Modelo no Conjunto de Teste ---\n",
      "  -> Perda (Mean Squared Error - MSE): 1.0950\n",
      "  -> Erro Médio Absoluto (Mean Absolute Error - MAE): 0.7649 \n",
      " \n",
      "\n",
      "--- Comparando cada Previsão com o Valor Real ---\n",
      "   Valence_Real  Valence_Prevista  Arousal_Real  Arousal_Previsto  Dominance_Real  Dominance_Previsto\n",
      "0             2              3.30             2              2.33               2                2.26\n",
      "1             4              4.20             1              2.78               2                2.18\n",
      "2             4              6.49             3              4.11               2                3.67\n",
      "3             3              3.29             2              1.78               2                1.26\n",
      "4             3              2.42             2              1.95               2                1.73\n"
     ]
    }
   ],
   "source": [
    "print(\"\\n--- Avaliação do Modelo no Conjunto de Teste ---\")\n",
    "loss, mae = model.evaluate(X_test_scaled, y_test, verbose=0)\n",
    "\n",
    "print(f\"  -> Perda (Mean Squared Error - MSE): {loss:.4f}\")\n",
    "print(f\"  -> Erro Médio Absoluto (Mean Absolute Error - MAE): {mae:.4f} \\n \")\n",
    "\n",
    "\n",
    "\n",
    "\n",
    "y_pred = model.predict(X_test_scaled)\n",
    "df_reais = y_test.reset_index(drop=True)\n",
    "df_previstos = pd.DataFrame(y_pred, columns=['Valence_Prevista', 'Arousal_Previsto', 'Dominance_Previsto'])\n",
    "df_comparacao = pd.concat([df_reais, df_previstos], axis=1).round(2)\n",
    "\n",
    "# 6. Renomeando as colunas originais \n",
    "df_comparacao.rename(columns={\n",
    "    'valence': 'Valence_Real',\n",
    "    'arousal': 'Arousal_Real',\n",
    "    'dominance': 'Dominance_Real'\n",
    "}, inplace=True)\n",
    "\n",
    "#Reorganizando\n",
    "df_comparacao = df_comparacao[[\n",
    "    'Valence_Real', 'Valence_Prevista',\n",
    "    'Arousal_Real', 'Arousal_Previsto',\n",
    "    'Dominance_Real', 'Dominance_Previsto']]\n",
    "\n",
    "#Printando a tabela de comparação completa\n",
    "print(df_comparacao.to_string())"
   ]
  }
 ],
 "metadata": {
  "kernelspec": {
   "display_name": "tf_flow",
   "language": "python",
   "name": "python3"
  },
  "language_info": {
   "codemirror_mode": {
    "name": "ipython",
    "version": 3
   },
   "file_extension": ".py",
   "mimetype": "text/x-python",
   "name": "python",
   "nbconvert_exporter": "python",
   "pygments_lexer": "ipython3",
   "version": "3.7.1"
  }
 },
 "nbformat": 4,
 "nbformat_minor": 5
}
